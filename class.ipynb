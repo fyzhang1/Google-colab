{
  "nbformat": 4,
  "nbformat_minor": 0,
  "metadata": {
    "colab": {
      "name": "class.ipynb",
      "provenance": [],
      "authorship_tag": "ABX9TyMAGVBn0QOAzUE3gQJR5W6C",
      "include_colab_link": true
    },
    "kernelspec": {
      "name": "python3",
      "display_name": "Python 3"
    },
    "language_info": {
      "name": "python"
    }
  },
  "cells": [
    {
      "cell_type": "markdown",
      "metadata": {
        "id": "view-in-github",
        "colab_type": "text"
      },
      "source": [
        "<a href=\"https://colab.research.google.com/github/zhangfuyao/Google-colab/blob/classifier/class.ipynb\" target=\"_parent\"><img src=\"https://colab.research.google.com/assets/colab-badge.svg\" alt=\"Open In Colab\"/></a>"
      ]
    },
    {
      "cell_type": "code",
      "execution_count": 1,
      "metadata": {
        "id": "Cqip-swQ_gwh"
      },
      "outputs": [],
      "source": [
        "import torch\n",
        "import torchvision.datasets\n",
        "from torch import nn\n",
        "import torchvision.transforms as transforms\n",
        "from tqdm import tqdm\n",
        "from torch.utils.data import DataLoader"
      ]
    },
    {
      "cell_type": "code",
      "source": [
        "transform=transforms.Compose([\n",
        "    transforms.ToTensor(),\n",
        "    transforms.Normalize((0.5, 0.5, 0.5), (0.5, 0.5, 0.5)),\n",
        "])"
      ],
      "metadata": {
        "id": "LsXdiYwW_9BS"
      },
      "execution_count": 2,
      "outputs": []
    },
    {
      "cell_type": "code",
      "source": [
        "# 定义超参数\n",
        "batch_size = 36\n",
        "lr = 1e-3\n",
        "epochs=10"
      ],
      "metadata": {
        "id": "ETu0RAFXAoFQ"
      },
      "execution_count": 3,
      "outputs": []
    },
    {
      "cell_type": "code",
      "source": [
        "train_data=torchvision.datasets.CIFAR10(root=\"./data\",train=True,download=True,transform=transform)\n",
        "\n",
        "train_dataloader=DataLoader(dataset=train_data,batch_size=batch_size,shuffle=True)\n",
        "\n",
        "valid_data=torchvision.datasets.CIFAR10(root=\"./data\",train=False,download=True,transform=transform)\n",
        "\n",
        "valid_dataloader=DataLoader(dataset=valid_data,batch_size=batch_size,shuffle=False)"
      ],
      "metadata": {
        "colab": {
          "base_uri": "https://localhost:8080/"
        },
        "id": "_ADk-4gyBOqr",
        "outputId": "67f30e3e-5f1f-42d8-bdc4-2af799cde7b9"
      },
      "execution_count": 10,
      "outputs": [
        {
          "output_type": "stream",
          "name": "stdout",
          "text": [
            "Files already downloaded and verified\n",
            "Files already downloaded and verified\n"
          ]
        }
      ]
    },
    {
      "cell_type": "code",
      "source": [
        "test_data_iter = iter(valid_dataloader)  # 将testloader转换为迭代器\n",
        "test_img, test_label = test_data_iter.next()  # 通过next（）获得一批数据\n",
        "\n",
        "classes = (\"plane\", \"car\", \"bird\", \"cat\", \"deer\", \"dog\", \"frog\", \"horse\", \"ship\", \"truck\")"
      ],
      "metadata": {
        "id": "wp7sJaauWrse"
      },
      "execution_count": 11,
      "outputs": []
    },
    {
      "cell_type": "markdown",
      "source": [
        "导入数据集"
      ],
      "metadata": {
        "id": "EEUhsnP6CgDQ"
      }
    },
    {
      "cell_type": "code",
      "source": [
        "class LetNet(nn.Module):\n",
        "  def __init__(self):\n",
        "    super(LetNet,self).__init__()\n",
        "    self.conv1=nn.Sequential(\n",
        "        nn.Conv2d(3,16,5),\n",
        "        nn.ReLU(),\n",
        "        nn.MaxPool2d(2,2)\n",
        "    )\n",
        "    self.conv2=nn.Sequential(\n",
        "        nn.Conv2d(16,32,5),\n",
        "        nn.ReLU(),\n",
        "        nn.MaxPool2d(2,2),\n",
        "    )\n",
        "    self.out=nn.Sequential(\n",
        "        torch.nn.Linear(32*5*5,120),\n",
        "        torch.nn.Linear(120,84),\n",
        "        torch.nn.Linear(84,10)\n",
        "    )\n",
        "  def forward(self,x):\n",
        "    x=self.conv1(x)\n",
        "    x=self.conv2(x)\n",
        "    x=x.view(-1,32*5*5)\n",
        "    x=self.out(x)\n",
        "    return x"
      ],
      "metadata": {
        "id": "GRhOyKmUCiLS"
      },
      "execution_count": 26,
      "outputs": []
    },
    {
      "cell_type": "code",
      "source": [
        "# 开始实例化模型并定义损失函数和优化器\n",
        "model=LetNet()\n",
        "criterion=torch.nn.CrossEntropyLoss()\n",
        "optimizer=torch.optim.Adam(model.parameters(),lr=lr)"
      ],
      "metadata": {
        "id": "U-uSXQXdKdGG"
      },
      "execution_count": 27,
      "outputs": []
    },
    {
      "cell_type": "code",
      "source": [
        "import matplotlib as plt\n",
        "import numpy as np\n",
        "def imshow(img):\n",
        "    img = img / 2 + 0.5  # unnormalize反标准化过程input = output*0.5 + 0.5\n",
        "    npimg = img.numpy()  # 转换为numpy\n",
        "    plt.imshow(np.transpose(npimg, (1, 2, 0)))  # Pytorch内Tensor顺序[batch, channel, height, width],由于输入没有batch，故channel对于0，height对应1，width对应2\n",
        "    # 此处要还原为载入图像时基础的shape，所以应把顺序变为[height, width, channel]， 所以需要np.transpose(npimg, (1, 2, 0))\n",
        "    plt.show()"
      ],
      "metadata": {
        "id": "dsuy-77tW7g5"
      },
      "execution_count": 28,
      "outputs": []
    },
    {
      "cell_type": "code",
      "source": [
        "for epoch in range(1):\n",
        "  running_loss = 0.0  # 这整个epoch的loss清零\n",
        "  running_total = 0\n",
        "  running_correct = 0\n",
        "  for step, data in enumerate(train_dataloader, start=0):\n",
        "    inputs,labels=data\n",
        "    optimizer.zero_grad() # 梯度清零\n",
        "    \n",
        "    # 前向传播\n",
        "    outputs=model(inputs)\n",
        "    loss=criterion(outputs,labels)\n",
        "    loss.backward()\n",
        "    optimizer.step()\n",
        "    running_loss += loss.item()\n",
        "    predicted = torch.argmax(outputs.data, dim=1)\n",
        "    running_total += inputs.shape[0]\n",
        "    running_correct += (predicted == labels).sum().item()\n",
        "    if step % 500==499:  # 不想要每一次都出loss，\n",
        "        print('[%d, %5d]: loss: %.3f , acc: %.2f %%'\n",
        "                  % (epoch + 1, step + 1, running_loss / 500, 100 * running_correct / running_total))\n",
        "\n",
        "        running_loss = 0.0  # 这小批的loss清零\n",
        "        running_total = 0\n",
        "        running_correct = 0  # 这小批的acc清零\n",
        "print(\"Training finished\")\n",
        "save_path = './path.pth'\n",
        "torch.save(model.state_dict(), save_path)"
      ],
      "metadata": {
        "colab": {
          "base_uri": "https://localhost:8080/"
        },
        "id": "3vYjj18tMRKu",
        "outputId": "f2dc5a6c-df13-4030-c0cd-c95bd73d1eb1"
      },
      "execution_count": 42,
      "outputs": [
        {
          "output_type": "stream",
          "name": "stdout",
          "text": [
            "[1,   500]: loss: 0.702 , acc: 75.27 %\n",
            "[1,  1000]: loss: 0.715 , acc: 75.07 %\n",
            "Training finished\n"
          ]
        }
      ]
    },
    {
      "cell_type": "code",
      "source": [
        "import torch\n",
        "import torchvision.transforms as transforms\n",
        "from PIL import Image\n",
        "\n",
        "transform = transforms.Compose(\n",
        "    [\n",
        "        transforms.Resize((32, 32)),\n",
        "     transforms.ToTensor(),\n",
        "     transforms.Normalize((0.5, 0.5, 0.5), (0.5, 0.5, 0.5))]  # 标准化 output = (input- 0.5)/0.5\n",
        ")\n",
        "\n",
        "classes = (\"plane\", \"car\", \"bird\", \"cat\", \"deer\", \"dog\", \"frog\", \"horse\", \"ship\", \"truck\")\n",
        "\n",
        "net = LetNet()\n",
        "\n",
        "net.load_state_dict(torch.load('path.pth'))  # 载入权重文件\n",
        "\n",
        "im = Image.open('/content/test.png').convert(\"RGB\")\n",
        "im = transform(im)  # [C, H, W] 转成Pytorch的Tensor格式\n",
        "im = torch.unsqueeze(im, dim=0)  # [N, C, H, W] 对数据增加一个新维度\n",
        "\n",
        "with torch.no_grad():\n",
        "    outputs = net(im)\n",
        "    predict = torch.max(outputs, dim=1)[1].data.numpy()\n",
        "print(classes[int(predict)])"
      ],
      "metadata": {
        "colab": {
          "base_uri": "https://localhost:8080/"
        },
        "id": "PUIXMMMgejkK",
        "outputId": "6379aa5a-4660-4e37-9c52-4b2376ac1a20"
      },
      "execution_count": 46,
      "outputs": [
        {
          "output_type": "stream",
          "name": "stdout",
          "text": [
            "plane\n"
          ]
        }
      ]
    }
  ]
}